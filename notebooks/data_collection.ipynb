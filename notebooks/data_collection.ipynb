{
 "cells": [
  {
   "cell_type": "code",
   "execution_count": 18,
   "metadata": {},
   "outputs": [],
   "source": [
    "import praw\n",
    "import pandas as pd\n",
    "\n",
    "# Reddit API\n",
    "client_id = 'client id'\n",
    "client_secret = 'client secret'\n",
    "user_agent = 'botanalysis'\n",
    "\n",
    "# Authentication\n",
    "reddit = praw.Reddit(client_id=client_id, client_secret=client_secret, user_agent=user_agent)\n",
    "\n",
    "\n",
    "# subreddit and the query to search\n",
    "\n",
    "subreddit = reddit.subreddit('india')\n",
    "query = 'Modi OR Congress OR BJP OR Indian Politics'\n",
    "\n",
    "\n",
    "posts = []\n",
    "for submission in subreddit.search(query, limit=1000):\n",
    "    posts.append([submission.id, submission.created_utc, submission.author.name, submission.title, submission.selftext, submission.score, submission.num_comments])\n",
    "\n",
    "\n",
    "df = pd.DataFrame(posts, columns=['ID', 'Timestamp', 'Author', 'Title', 'Text', 'Score', 'Comments'])\n",
    "\n",
    "\n",
    "df.to_csv('../data/reddit_posts.csv', index=False)\n"
   ]
  }
 ],
 "metadata": {
  "kernelspec": {
   "display_name": "venv",
   "language": "python",
   "name": "python3"
  },
  "language_info": {
   "codemirror_mode": {
    "name": "ipython",
    "version": 3
   },
   "file_extension": ".py",
   "mimetype": "text/x-python",
   "name": "python",
   "nbconvert_exporter": "python",
   "pygments_lexer": "ipython3",
   "version": "3.12.4"
  }
 },
 "nbformat": 4,
 "nbformat_minor": 2
}
