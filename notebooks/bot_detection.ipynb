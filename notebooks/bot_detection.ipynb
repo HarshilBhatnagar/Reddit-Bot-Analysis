{
 "cells": [
  {
   "cell_type": "code",
   "execution_count": 10,
   "metadata": {},
   "outputs": [],
   "source": [
    "import pandas as pd\n",
    "from sklearn.feature_extraction.text import TfidfVectorizer\n",
    "from sklearn.ensemble import RandomForestClassifier\n",
    "\n",
    "df = pd.read_csv('../data/reddit_posts_preprocessed.csv')\n",
    "\n",
    "df['Processed_Text'] = df['Processed_Text'].fillna('')\n",
    "\n",
    "vectorizer = TfidfVectorizer(max_features=1000)\n",
    "X = vectorizer.fit_transform(df['Processed_Text'])\n",
    "\n",
    "def is_bot(author):\n",
    "    '''\n",
    "     The Logic: Assume bot if author's name contains 'bot'\n",
    "    '''\n",
    "    if 'bot' in str(author).lower():\n",
    "        return 1\n",
    "    return 0\n",
    "\n",
    "df['Bot'] = df['Author'].apply(is_bot)\n",
    "\n",
    "# Training a bot detection model\n",
    "y = df['Bot']\n",
    "model = RandomForestClassifier()\n",
    "model.fit(X, y)\n",
    "\n",
    "df['Bot_Prediction'] = model.predict(X)\n",
    "df.to_csv('../data/reddit_posts_final.csv', index=False)\n"
   ]
  }
 ],
 "metadata": {
  "kernelspec": {
   "display_name": "venv",
   "language": "python",
   "name": "python3"
  },
  "language_info": {
   "codemirror_mode": {
    "name": "ipython",
    "version": 3
   },
   "file_extension": ".py",
   "mimetype": "text/x-python",
   "name": "python",
   "nbconvert_exporter": "python",
   "pygments_lexer": "ipython3",
   "version": "3.12.4"
  }
 },
 "nbformat": 4,
 "nbformat_minor": 2
}
